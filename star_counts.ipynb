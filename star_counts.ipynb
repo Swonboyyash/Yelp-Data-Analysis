{
 "cells": [
  {
   "cell_type": "code",
   "execution_count": 7,
   "metadata": {},
   "outputs": [
    {
     "data": {
      "text/plain": [
       "<BarContainer object of 9 artists>"
      ]
     },
     "execution_count": 7,
     "metadata": {},
     "output_type": "execute_result"
    },
    {
     "data": {
      "image/png": "[encoded data removed]",
      "text/plain": [
       "<Figure size 432x288 with 1 Axes>"
      ]
     },
     "metadata": {},
     "output_type": "display_data"
    }
   ],
   "source": [
    "from pyspark import SparkConf, SparkContext\n",
    "import json\n",
    "import pandas as pd\n",
    "import matplotlib.pyplot as plt\n",
    "import seaborn as sns\n",
    "import findspark\n",
    "findspark.init()\n",
    "% matplotlib inline\n",
    "\n",
    "input = sc.textFile(\"file:///Users/yashparikh/Project/dataset/business.json\")\n",
    "data_lines = input.map(lambda x: json.loads(x))\n",
    "stars = data_lines.map(lambda x: (x[\"stars\"], 1))\n",
    "count_stars = stars.reduceByKey(lambda x,y: x+y).collectAsMap() #this is a dictionary\n",
    "\n",
    "# for s,v in count_stars.items():\n",
    "#     print \"star\", s\n",
    "#     print \"values\", v\n",
    "\n",
    "keys = count_stars.keys()\n",
    "values = count_stars.values()\n",
    "df = pd.DataFrame(list(zip(keys,values)), columns=['stars','counts'])\n",
    "fig, axs = plt.subplots(1)\n",
    "axs.bar(keys, values)"
   ]
  },
  {
   "cell_type": "code",
   "execution_count": null,
   "metadata": {},
   "outputs": [],
   "source": []
  },
  {
   "cell_type": "code",
   "execution_count": null,
   "metadata": {},
   "outputs": [],
   "source": []
  }
 ],
 "metadata": {
  "kernelspec": {
   "display_name": "Python 2",
   "language": "python",
   "name": "python2"
  },
  "language_info": {
   "codemirror_mode": {
    "name": "ipython",
    "version": 2
   },
   "file_extension": ".py",
   "mimetype": "text/x-python",
   "name": "python",
   "nbconvert_exporter": "python",
   "pygments_lexer": "ipython2",
   "version": "2.7.14"
  }
 },
 "nbformat": 4,
 "nbformat_minor": 2
}
