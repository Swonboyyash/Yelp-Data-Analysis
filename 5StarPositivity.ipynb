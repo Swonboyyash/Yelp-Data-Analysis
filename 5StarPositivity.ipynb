{
 "cells": [
  {
   "cell_type": "code",
   "execution_count": null,
   "metadata": {},
   "outputs": [],
   "source": [
    "from __future__ import print_function\n",
    "from pyspark.sql import SparkSession\n",
    "from pyspark.sql import Row\n",
    "from pyspark.sql.types import *\n",
    "import pandas as pd\n",
    "import matplotlib.pyplot as plt\n",
    "\n",
    "# read positivity file\n",
    "positive_words = []\n",
    "\n",
    "with open(\"positive-words.txt\") as f:\n",
    "    positive_words = f.read().split()[213:] \n",
    "\n",
    "def calculate_positivity(lst):\n",
    "    count = 0\n",
    "    for word in lst:\n",
    "        if word in positive_words:\n",
    "            count = count + 1\n",
    "    return count\n",
    "\n",
    "    \n",
    "spark = SparkSession.builder.appName(\"Yelp Analysis\").config(\"spark.some.config.option\", \"some-value\").getOrCreate()\n",
    "df = spark.read.json(\"file:///Users/yashparikh/Project/final_five_star_review.json\")\n",
    "\n",
    "df.createOrReplaceTempView(\"fiveStar\")\n",
    "sqlDF = spark.sql(\"SELECT year(date) as year, month(date) as month, text FROM fiveStar month ORDER BY year, month\").toPandas()\n",
    "totalReviews = sqlDF.groupby(['year', 'month']).apply(lambda x: \"%s\" % ' '.join(x['text']))\n",
    "totalReviews = totalReviews.to_frame().rename(columns= {0: 'all_reviews'})\n",
    "\n",
    "year_and_month = totalReviews.index.values.tolist()\n",
    "\n",
    "total_count = []\n",
    "positive_count = []\n",
    "\n",
    "for date in year_and_month:\n",
    "\tentire_text = totalReviews.loc[(date)].values.tolist()[0].split(\" \")\n",
    "\tlength = len(entire_text)\n",
    "\ttotal_count.append(length)\n",
    "\t\n",
    "\tpos_count = (calculate_positivity(entire_text)/float(length)) * 100\n",
    "\tpositive_count.append(pos_count)\n",
    "\n",
    "totalReviews[\"pos_count\"] = positive_count\n",
    "totalReviews.plot.line(x=totalReviews.index, y='pos_count', figsize=(15,10))\n",
    "# print(totalReviews.loc[(2006,3)].values)"
   ]
  },
  {
   "cell_type": "code",
   "execution_count": null,
   "metadata": {},
   "outputs": [],
   "source": []
  },
  {
   "cell_type": "code",
   "execution_count": null,
   "metadata": {},
   "outputs": [],
   "source": []
  }
 ],
 "metadata": {
  "kernelspec": {
   "display_name": "Python 2",
   "language": "python",
   "name": "python2"
  },
  "language_info": {
   "codemirror_mode": {
    "name": "ipython",
    "version": 2
   },
   "file_extension": ".py",
   "mimetype": "text/x-python",
   "name": "python",
   "nbconvert_exporter": "python",
   "pygments_lexer": "ipython2",
   "version": "2.7.14"
  }
 },
 "nbformat": 4,
 "nbformat_minor": 2
}
