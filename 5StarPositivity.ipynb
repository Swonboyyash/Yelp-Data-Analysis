{
 "cells": [
  {
   "cell_type": "code",
   "execution_count": 9,
   "metadata": {},
   "outputs": [],
   "source": [
    "from __future__ import print_function\n",
    "from pyspark.sql import SparkSession\n",
    "from pyspark.sql import Row\n",
    "from pyspark.sql.types import *\n",
    "import pandas as pd\n",
    "import matplotlib.pyplot as plt\n",
    "\n",
    "\n",
    "def get_positivity_of_review(row): \n",
    "    return row[(row['year']  == row['year']) & (row['month'] == row['month'])]['text']\n",
    "    \n",
    "    \n",
    "    \n",
    "spark = SparkSession.builder.appName(\"Yelp Analysis\").config(\"spark.some.config.option\", \"some-value\").getOrCreate()\n",
    "df = spark.read.json(\"file:///Users/yashparikh/Project/five_star_reviews.json\")\n",
    "\n",
    "df.createOrReplaceTempView(\"fiveStarReviews\")\n",
    "sqlDF = spark.sql(\"SELECT year(date) as year, month(date) as month, text FROM fiveStarReviews month ORDER BY year, month\").toPandas()\n",
    "# totalReviews['text'] = sqlDF.groupby(['year', 'month']).apply(get_positivity_of_review)\n",
    "totalReviews = sqlDF.groupby(['year', 'month']).apply(lambda x: \"%s\" % ' '.join(x['text']))\n",
    "totalReviews = totalReviews.to_frame().rename(columns= {0: 'all_reviews'})\n",
    "\n",
    "year_and_month = totalReviews.index.values.tolist()\n",
    "\n",
    "# year month positivity_percent\n",
    "#     2006 3 5.6%\n",
    "# s_mi.iloc[s_mi.index.isin([(1, 'a'), (2, 'b'), (0, 'c')])]\n",
    "# \n",
    "# totalReviews[(totalReviews['year']  == 2006) & (totalReviews['month'] == 3)]['text'].tolist()\n",
    "\n",
    "# year month count = percentage of positivity. \n",
    "# count = no.of positive words/ total word. \n",
    "\n",
    "# totalReviws = sqlDF.groupby(['year', 'month']).select('text')\n",
    "# totalCountByYearAndStar = yearVsStarDF.groupby(['year', 'stars']).agg({'count': 'sum'})\n",
    "# totalCountByYear = yearVsStarDF.groupby('year').agg({'count': 'sum'})\n",
    "# totalCountByYearAndStar = totalCountByYearAndStar.div(totalCountByYear, level='year') * 100\n",
    "# totalCountByYearAndStar['year'] = yearVsStarDF['year'].tolist()\n",
    "# totalCountByYearAndStar['stars'] = yearVsStarDF['stars'].tolist()\n",
    "\n",
    "\n",
    "# yearVsStarDF = yearVsStarDF.pivot(index='year', columns='stars', values='count')\n",
    "# yearVsStarDF.plot.area(stacked=True, color=[\"#FF4040\", \"#CD3333\",\"#CD5B45\", \"#6E8B3D\", \"#228B22\"], figsize=(15,10))\n"
   ]
  },
  {
   "cell_type": "code",
   "execution_count": null,
   "metadata": {},
   "outputs": [],
   "source": []
  },
  {
   "cell_type": "code",
   "execution_count": null,
   "metadata": {},
   "outputs": [],
   "source": []
  }
 ],
 "metadata": {
  "kernelspec": {
   "display_name": "Python 2",
   "language": "python",
   "name": "python2"
  },
  "language_info": {
   "codemirror_mode": {
    "name": "ipython",
    "version": 2
   },
   "file_extension": ".py",
   "mimetype": "text/x-python",
   "name": "python",
   "nbconvert_exporter": "python",
   "pygments_lexer": "ipython2",
   "version": "2.7.14"
  }
 },
 "nbformat": 4,
 "nbformat_minor": 2
}
