{
 "cells": [
  {
   "cell_type": "code",
   "execution_count": 3,
   "metadata": {},
   "outputs": [],
   "source": [
    "from pyspark import SparkConf, SparkContext\n",
    "import json\n",
    "from langdetect import detect\n",
    "import string\n",
    "from nltk.tokenize import word_tokenize\n",
    "from nltk.corpus import stopwords\n",
    "import re\n",
    "import unicodedata\n",
    "\n",
    "from wordcloud import WordCloud, STOPWORDS\n",
    "from subprocess import check_output\n",
    "from wordcloud import WordCloud, STOPWORDS\n",
    "import numpy as np\n",
    "import pandas as pd \n",
    "import json\n",
    "import string\n",
    "import matplotlib as mpl\n",
    "import matplotlib.pyplot as plt\n",
    "#%matplotlib inline\n",
    "\n",
    "\n",
    "# conf = SparkConf().setMaster(\"local\").setAppName(\"Yelp Dataset Analysis\")\n",
    "# sc = SparkContext(conf=conf)\n",
    "\n",
    "def get_text(x):\n",
    "\tobj = json.loads(x)\n",
    "\ttext = obj['text']\n",
    "\tlang = unicodedata.normalize('NFKD', text).encode('ascii','ignore')\n",
    "\ttry:\t\n",
    "\t\treturn obj['stars'] == 5 and detect(lang) == 'en'\n",
    "\texcept:\n",
    "\t\tprint lang\n",
    "\t\treturn False\n",
    "\n",
    "\n",
    "def text_filter_data(review_text):\n",
    "    tokenized_lst = [char for char in review_text if char not in string.punctuation]\n",
    "    tokenized_text = ''.join(tokenized_lst)\n",
    "    filtered_text = [unicodedata.normalize('NFKD', word).encode('ascii','ignore') for word in tokenized_text.split() if word.lower() not in stopwords.words('english') and not word.isdigit()]\n",
    "    return \" \".join(filtered_text)\n",
    "\n",
    "\n",
    "def get_values(x):\n",
    "\tobj = json.loads(x)\n",
    "\tdate = obj['date']\n",
    "\treview_text = text_filter_data(obj['text'])\n",
    "\td = {\"date\":date, \"text\": review_text}\n",
    "\tret_obj = json.dumps(d)\n",
    "\treturn ret_obj\n",
    "\n",
    "input = sc.textFile(\"file:///Users/yashparikh/Project/review_small.json\")\n",
    "\n",
    "review_text_rdd = input.filter(lambda x: get_text(x)).map(lambda x: get_values(x)).saveAsTextFile(\"output_text_2\")\n",
    "\n",
    "\n",
    "\n",
    "\n",
    "\n",
    "\n",
    "\n",
    "\n",
    "\n"
   ]
  },
  {
   "cell_type": "code",
   "execution_count": null,
   "metadata": {},
   "outputs": [],
   "source": []
  },
  {
   "cell_type": "code",
   "execution_count": null,
   "metadata": {},
   "outputs": [],
   "source": []
  }
 ],
 "metadata": {
  "kernelspec": {
   "display_name": "Python 2",
   "language": "python",
   "name": "python2"
  },
  "language_info": {
   "codemirror_mode": {
    "name": "ipython",
    "version": 2
   },
   "file_extension": ".py",
   "mimetype": "text/x-python",
   "name": "python",
   "nbconvert_exporter": "python",
   "pygments_lexer": "ipython2",
   "version": "2.7.14"
  }
 },
 "nbformat": 4,
 "nbformat_minor": 2
}
