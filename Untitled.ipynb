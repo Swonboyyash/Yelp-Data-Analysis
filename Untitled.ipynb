{
 "cells": [
  {
   "cell_type": "code",
   "execution_count": 2,
   "metadata": {},
   "outputs": [
    {
     "data": {
      "text/plain": [
       "DataFrame[date: string, text: string]"
      ]
     },
     "execution_count": 2,
     "metadata": {},
     "output_type": "execute_result"
    }
   ],
   "source": [
    "from __future__ import print_function\n",
    "from pyspark.sql import SparkSession\n",
    "from pyspark.sql import Row\n",
    "from pyspark.sql.types import *\n",
    "import pandas as pd\n",
    "import matplotlib.pyplot as plt\n",
    "\n",
    "spark = SparkSession.builder.appName(\"Yelp Analysis\").config(\"spark.some.config.option\", \"some-value\").getOrCreate()\n",
    "df = spark.read.json(\"file:///Users/yashparikh/Project/dataset/review.json\")\n",
    "\n",
    "df.createOrReplaceTempView(\"reviews\")\n",
    "sqlDF = spark.sql(\"SELECT date, text FROM reviews WHERE stars = 1\")\n",
    "# .createOrReplaceTempView(\"yearVsStar\")\n",
    "sqlDF.toPandas()\n",
    "pandas_df.to_json(\"file:///Users/yashparikh/Project/one_star_review.json\")"
   ]
  },
  {
   "cell_type": "code",
   "execution_count": null,
   "metadata": {},
   "outputs": [],
   "source": []
  }
 ],
 "metadata": {
  "kernelspec": {
   "display_name": "Python 2",
   "language": "python",
   "name": "python2"
  },
  "language_info": {
   "codemirror_mode": {
    "name": "ipython",
    "version": 2
   },
   "file_extension": ".py",
   "mimetype": "text/x-python",
   "name": "python",
   "nbconvert_exporter": "python",
   "pygments_lexer": "ipython2",
   "version": "2.7.14"
  }
 },
 "nbformat": 4,
 "nbformat_minor": 2
}
