{
 "cells": [
  {
   "cell_type": "code",
   "execution_count": null,
   "metadata": {},
   "outputs": [],
   "source": [
    "from __future__ import print_function\n",
    "from pyspark.sql import SparkSession\n",
    "from pyspark.sql import Row\n",
    "from pyspark.sql.types import *\n",
    "import pandas as pd\n",
    "import matplotlib.pyplot as plt\n",
    "\n",
    "spark = SparkSession.builder.appName(\"Yelp Analysis\").config(\"spark.some.config.option\", \"some-value\").getOrCreate()\n",
    "df = spark.read.json(\"file:///Users/yashparikh/Project/dataset/review.json\")\n",
    "\n",
    "df.createOrReplaceTempView(\"reviews\")\n",
    "sqlDF = spark.sql(\"SELECT year(date) as year, stars FROM reviews\").createOrReplaceTempView(\"yearVsStar\")\n",
    "yearVsStarDF = spark.sql(\"SELECT year, stars, count(year, stars) as count FROM yearVsStar GROUP BY year, stars order by year, stars\").toPandas()\n",
    "\n",
    "totalCountByYearAndStar = yearVsStarDF.groupby(['year', 'stars']).agg({'count': 'sum'})\n",
    "totalCountByYear = yearVsStarDF.groupby('year').agg({'count': 'sum'})\n",
    "totalCountByYearAndStar = totalCountByYearAndStar.div(totalCountByYear, level='year') * 100\n",
    "totalCountByYearAndStar['year'] = yearVsStarDF['year'].tolist()\n",
    "totalCountByYearAndStar['stars'] = yearVsStarDF['stars'].tolist()\n",
    "\n",
    "\n",
    "yearVsStarDF = yearVsStarDF.pivot(index='year', columns='stars', values='count')\n",
    "yearVsStarDF.plot.area(stacked=True, color=[\"#FF4040\", \"#CD3333\",\"#CD5B45\", \"#6E8B3D\", \"#228B22\"], figsize=(15,10))\n"
   ]
  }
 ],
 "metadata": {
  "kernelspec": {
   "display_name": "Python 2",
   "language": "python",
   "name": "python2"
  },
  "language_info": {
   "codemirror_mode": {
    "name": "ipython",
    "version": 2
   },
   "file_extension": ".py",
   "mimetype": "text/x-python",
   "name": "python",
   "nbconvert_exporter": "python",
   "pygments_lexer": "ipython2",
   "version": "2.7.14"
  }
 },
 "nbformat": 4,
 "nbformat_minor": 2
}
