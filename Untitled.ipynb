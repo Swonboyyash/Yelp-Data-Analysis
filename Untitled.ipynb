{
 "cells": [
  {
   "cell_type": "code",
   "execution_count": 19,
   "metadata": {},
   "outputs": [
    {
     "name": "stdout",
     "output_type": "stream",
     "text": [
      "+----+-----+--------------------+\n",
      "|year|month|                text|\n",
      "+----+-----+--------------------+\n",
      "|2006|    1|excellent record ...|\n",
      "|2006|    3|great place love ...|\n",
      "|2006|    3|cant believe nobo...|\n",
      "|2006|    3|place owneroperat...|\n",
      "|2007|    1|first visited Pen...|\n",
      "|2007|    2|say going sound r...|\n",
      "|2007|    5|gelato dont anyth...|\n",
      "|2007|    6|twice one week re...|\n",
      "|2007|    6|place really does...|\n",
      "|2007|    6|cant believe revi...|\n",
      "|2007|    6|stumbled upon lit...|\n",
      "|2007|    6|havent Go Stop re...|\n",
      "|2007|    8|place used called...|\n",
      "|2007|    8|love library dont...|\n",
      "|2007|    9|Ode Tops Liquor l...|\n",
      "|2007|   12|love Bark Avenue ...|\n",
      "|2008|    1|great end dreary ...|\n",
      "|2008|    2|Ive got spunky gl...|\n",
      "|2008|    2|awake wild eyed c...|\n",
      "|2008|    3|found tree remova...|\n",
      "+----+-----+--------------------+\n",
      "only showing top 20 rows\n",
      "\n"
     ]
    }
   ],
   "source": [
    "from __future__ import print_function\n",
    "from pyspark.sql import SparkSession\n",
    "from pyspark.sql import Row\n",
    "from pyspark.sql.types import *\n",
    "import pandas as pd\n",
    "import matplotlib.pyplot as plt\n",
    "\n",
    "spark = SparkSession.builder.appName(\"Yelp Analysis\").config(\"spark.some.config.option\", \"some-value\").getOrCreate()\n",
    "df = spark.read.json(\"file:///Users/yashparikh/Project/five_star_reviews.json\")\n",
    "\n",
    "df.createOrReplaceTempView(\"fiveStarReviews\")\n",
    "sqlDF = spark.sql(\"SELECT year(date) as year, month(date) as month, text FROM fiveStarReviews ORDER BY year, month\")\n",
    "sqlDF.show()\n",
    "# .createOrReplaceTempView(\"reviewsByMonth\")\n",
    "# reviewsByMonthDF = spark.sql(\"SELECT year, month, count(year, month) as count FROM reviewsByMonth GROUP BY year, month ORDER BY year, month\")\n",
    "# reviewsByMonthDF.show()\n",
    "# totalCountByYearAndStar = yearVsStarDF.groupby(['year', 'stars']).agg({'count': 'sum'})\n",
    "# totalCountByYear = yearVsStarDF.groupby('year').agg({'count': 'sum'})\n",
    "# totalCountByYearAndStar = totalCountByYearAndStar.div(totalCountByYear, level='year') * 100\n",
    "# totalCountByYearAndStar['year'] = yearVsStarDF['year'].tolist()\n",
    "# totalCountByYearAndStar['stars'] = yearVsStarDF['stars'].tolist()\n",
    "\n",
    "\n",
    "# yearVsStarDF = yearVsStarDF.pivot(index='year', columns='stars', values='count')\n",
    "# yearVsStarDF.plot.area(stacked=True, color=[\"#FF4040\", \"#CD3333\",\"#CD5B45\", \"#6E8B3D\", \"#228B22\"], figsize=(15,10))\n"
   ]
  },
  {
   "cell_type": "code",
   "execution_count": null,
   "metadata": {},
   "outputs": [],
   "source": []
  },
  {
   "cell_type": "code",
   "execution_count": null,
   "metadata": {},
   "outputs": [],
   "source": []
  }
 ],
 "metadata": {
  "kernelspec": {
   "display_name": "Python 2",
   "language": "python",
   "name": "python2"
  },
  "language_info": {
   "codemirror_mode": {
    "name": "ipython",
    "version": 2
   },
   "file_extension": ".py",
   "mimetype": "text/x-python",
   "name": "python",
   "nbconvert_exporter": "python",
   "pygments_lexer": "ipython2",
   "version": "2.7.14"
  }
 },
 "nbformat": 4,
 "nbformat_minor": 2
}
